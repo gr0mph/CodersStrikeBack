{
 "cells": [
  {
   "cell_type": "code",
   "execution_count": null,
   "metadata": {},
   "outputs": [],
   "source": []
  },
  {
   "cell_type": "code",
   "execution_count": 1,
   "metadata": {},
   "outputs": [],
   "source": [
    "import numpy as np\n",
    "import matplotlib.pyplot as plt\n",
    "import scipy.special"
   ]
  },
  {
   "cell_type": "code",
   "execution_count": 2,
   "metadata": {},
   "outputs": [],
   "source": [
    "state_coord = np.array([[14226,  3435],\n",
    " [14134,  3474],\n",
    " [13964,  3546],\n",
    " [13728,  3646],\n",
    " [13436,  3770],\n",
    " [13096,  3914],\n",
    " [12716,  4075], \n",
    " [12302,  4251],\n",
    " [11859,  4439],\n",
    " [11391,  4638],\n",
    " [10902,  4846],\n",
    " [10395,  5062],\n",
    " [ 9873,  5284],\n",
    " [ 9338,  5511],\n",
    " [ 8792,  5743],\n",
    " [ 8236,  5979],\n",
    " [ 7672,  6218],\n",
    " [ 7101,  6461],\n",
    " [ 6524,  6707],\n",
    " [ 5942,  6955],\n",
    " [ 5356,  7205],\n",
    " [ 4767,  7457],\n",
    " [ 4176,  7712],\n",
    " [ 3575,  7938],\n",
    " [ 2966,  8109],\n",
    " [ 2362,  8204],\n",
    " [ 1782,  8210],\n",
    " [ 1249,  8123],\n",
    " [  787,  7950],\n",
    " [  415,  7705],\n",
    " [  149,  7410],\n",
    " [   -3,  7093],\n",
    " [  -40,  6783],\n",
    " [   22,  6483],\n",
    " [  168,  6194],\n",
    " [  385,  5916],\n",
    " [  664,  5648],\n",
    " [  995,  5390],\n",
    " [ 1372,  5143],\n",
    " [ 1788,  4905],\n",
    " [ 2237,  4676],\n",
    " [ 2714,  4456],\n",
    " [ 3216,  4244],\n",
    " [ 3739,  4039],\n",
    " [ 4280,  3842],\n",
    " [ 4836,  3652],\n",
    " [ 5405,  3469],\n",
    " [ 5987,  3292],\n",
    " [ 6579,  3121],\n",
    " [ 7180,  2956],\n",
    " [ 7788,  2797],\n",
    " [ 8402,  2644],\n",
    " [ 9023,  2497],\n",
    " [ 9649,  2356],\n",
    " [10279,  2223],\n",
    " [10913,  2098],\n",
    " [11552,  1985],\n",
    " [12191,  1913],\n",
    " [12819,  1905],\n",
    " [13417,  1974],\n",
    " [13963,  2125],\n",
    " [14434,  2352],\n",
    " [14810,  2641],\n",
    " [15076,  2971],\n",
    " [15226,  3316],\n",
    " [15260,  3646],\n",
    " [15193,  3954]])"
   ]
  },
  {
   "cell_type": "code",
   "execution_count": 3,
   "metadata": {},
   "outputs": [
    {
     "data": {
      "image/png": "[encoded data removed]",
      "text/plain": [
       "<Figure size 432x288 with 1 Axes>"
      ]
     },
     "metadata": {
      "needs_background": "light"
     },
     "output_type": "display_data"
    }
   ],
   "source": [
    "fig = plt.figure()\n",
    "plt.scatter(state_coord[:, 0], state_coord[:, 1], s=10, c='blue')\n",
    "plt.show(plt)"
   ]
  },
  {
   "cell_type": "code",
   "execution_count": 5,
   "metadata": {},
   "outputs": [
    {
     "data": {
      "text/plain": [
       "array([[14226,  3435],\n",
       "       [14134,  3474]])"
      ]
     },
     "execution_count": 5,
     "metadata": {},
     "output_type": "execute_result"
    }
   ],
   "source": [
    "state_coord[0:2]"
   ]
  },
  {
   "cell_type": "code",
   "execution_count": 15,
   "metadata": {},
   "outputs": [],
   "source": [
    "def speed(state_coord):\n",
    "    state = {}\n",
    "    state['dot_x'] = state_coord[1,0] - state_coord[0,0]\n",
    "    state['dot_y'] = state_coord[1,1] - state_coord[0,1]\n",
    "    state['dot'] = np.power(state['dot_x'],2) + np.power(state['dot_y'],2)\n",
    "    state['dot'] = np.sqrt(state['dot'])\n",
    "    return state"
   ]
  },
  {
   "cell_type": "code",
   "execution_count": 11,
   "metadata": {},
   "outputs": [],
   "source": [
    "state = speed(state_coord[0:2])"
   ]
  },
  {
   "cell_type": "code",
   "execution_count": 14,
   "metadata": {},
   "outputs": [
    {
     "data": {
      "text/plain": [
       "99.92497185388645"
      ]
     },
     "execution_count": 14,
     "metadata": {},
     "output_type": "execute_result"
    }
   ],
   "source": [
    "state['dot'] = np.power(state['dot_x'],2) + np.power(state['dot_y'],2)\n",
    "#np.square(state['dot'])\n",
    "np.sqrt(state['dot'])"
   ]
  },
  {
   "cell_type": "code",
   "execution_count": 17,
   "metadata": {},
   "outputs": [
    {
     "name": "stdout",
     "output_type": "stream",
     "text": [
      "i 0 state {'dot_x': -92, 'dot_y': 39, 'dot': 99.92497185388645}\n",
      "i 1 state {'dot_x': -170, 'dot_y': 72, 'dot': 184.61852561430555}\n",
      "i 2 state {'dot_x': -236, 'dot_y': 100, 'dot': 256.3123094976127}\n",
      "i 3 state {'dot_x': -292, 'dot_y': 124, 'dot': 317.23808094237364}\n",
      "i 4 state {'dot_x': -340, 'dot_y': 144, 'dot': 369.2370512286111}\n",
      "i 5 state {'dot_x': -380, 'dot_y': 161, 'dot': 412.69964865504795}\n",
      "i 6 state {'dot_x': -414, 'dot_y': 176, 'dot': 449.8577552960491}\n",
      "i 7 state {'dot_x': -443, 'dot_y': 188, 'dot': 481.2411038138783}\n",
      "i 8 state {'dot_x': -468, 'dot_y': 199, 'dot': 508.55186559484764}\n",
      "i 9 state {'dot_x': -489, 'dot_y': 208, 'dot': 531.3990967248627}\n",
      "i 10 state {'dot_x': -507, 'dot_y': 216, 'dot': 551.094365785026}\n",
      "i 11 state {'dot_x': -522, 'dot_y': 222, 'dot': 567.2459783903277}\n",
      "i 12 state {'dot_x': -535, 'dot_y': 227, 'dot': 581.1660692091375}\n",
      "i 13 state {'dot_x': -546, 'dot_y': 232, 'dot': 593.2453118230266}\n",
      "i 14 state {'dot_x': -556, 'dot_y': 236, 'dot': 604.0132448878915}\n",
      "i 15 state {'dot_x': -564, 'dot_y': 239, 'dot': 612.5495898292644}\n",
      "i 16 state {'dot_x': -571, 'dot_y': 243, 'dot': 620.556202128381}\n",
      "i 17 state {'dot_x': -577, 'dot_y': 246, 'dot': 627.251943002172}\n",
      "i 18 state {'dot_x': -582, 'dot_y': 248, 'dot': 632.635756182023}\n",
      "i 19 state {'dot_x': -586, 'dot_y': 250, 'dot': 637.0996782293961}\n",
      "i 20 state {'dot_x': -589, 'dot_y': 252, 'dot': 640.6442070291434}\n",
      "i 21 state {'dot_x': -591, 'dot_y': 255, 'dot': 643.6660624889275}\n",
      "i 22 state {'dot_x': -601, 'dot_y': 226, 'dot': 642.0880001993496}\n",
      "i 23 state {'dot_x': -609, 'dot_y': 171, 'dot': 632.5519741491603}\n",
      "i 24 state {'dot_x': -604, 'dot_y': 95, 'dot': 611.4253838368178}\n",
      "i 25 state {'dot_x': -580, 'dot_y': 6, 'dot': 580.0310336525107}\n",
      "i 26 state {'dot_x': -533, 'dot_y': -87, 'dot': 540.0537010335175}\n",
      "i 27 state {'dot_x': -462, 'dot_y': -173, 'dot': 493.3284909672256}\n",
      "i 28 state {'dot_x': -372, 'dot_y': -245, 'dot': 445.4312517100703}\n",
      "i 29 state {'dot_x': -266, 'dot_y': -295, 'dot': 397.2165656162895}\n",
      "i 30 state {'dot_x': -152, 'dot_y': -317, 'dot': 351.5579610818108}\n",
      "i 31 state {'dot_x': -37, 'dot_y': -310, 'dot': 312.200256245891}\n",
      "i 32 state {'dot_x': 62, 'dot_y': -300, 'dot': 306.33968074671617}\n",
      "i 33 state {'dot_x': 146, 'dot_y': -289, 'dot': 323.7854227725516}\n",
      "i 34 state {'dot_x': 217, 'dot_y': -278, 'dot': 352.6655639554279}\n",
      "i 35 state {'dot_x': 279, 'dot_y': -268, 'dot': 386.86560974064366}\n",
      "i 36 state {'dot_x': 331, 'dot_y': -258, 'dot': 419.6724913548659}\n",
      "i 37 state {'dot_x': 377, 'dot_y': -247, 'dot': 450.7083314073526}\n",
      "i 38 state {'dot_x': 416, 'dot_y': -238, 'dot': 479.27027865287033}\n",
      "i 39 state {'dot_x': 449, 'dot_y': -229, 'dot': 504.02579299079525}\n",
      "i 40 state {'dot_x': 477, 'dot_y': -220, 'dot': 525.2894440211035}\n",
      "i 41 state {'dot_x': 502, 'dot_y': -212, 'dot': 544.9293532192958}\n",
      "i 42 state {'dot_x': 523, 'dot_y': -205, 'dot': 561.7419336314497}\n",
      "i 43 state {'dot_x': 541, 'dot_y': -197, 'dot': 575.7516825854701}\n",
      "i 44 state {'dot_x': 556, 'dot_y': -190, 'dot': 587.5678684203212}\n",
      "i 45 state {'dot_x': 569, 'dot_y': -183, 'dot': 597.7039400907443}\n",
      "i 46 state {'dot_x': 582, 'dot_y': -177, 'dot': 608.3198172014454}\n",
      "i 47 state {'dot_x': 592, 'dot_y': -171, 'dot': 616.2020772441456}\n",
      "i 48 state {'dot_x': 601, 'dot_y': -165, 'dot': 623.2383171789103}\n",
      "i 49 state {'dot_x': 608, 'dot_y': -159, 'dot': 628.4464973249513}\n",
      "i 50 state {'dot_x': 614, 'dot_y': -153, 'dot': 632.7756316420537}\n",
      "i 51 state {'dot_x': 621, 'dot_y': -147, 'dot': 638.1614215854794}\n",
      "i 52 state {'dot_x': 626, 'dot_y': -141, 'dot': 641.6829435165002}\n",
      "i 53 state {'dot_x': 630, 'dot_y': -133, 'dot': 643.88585945026}\n",
      "i 54 state {'dot_x': 634, 'dot_y': -125, 'dot': 646.2050758079822}\n",
      "i 55 state {'dot_x': 639, 'dot_y': -113, 'dot': 648.9144781864557}\n",
      "i 56 state {'dot_x': 639, 'dot_y': -72, 'dot': 643.043544404265}\n",
      "i 57 state {'dot_x': 628, 'dot_y': -8, 'dot': 628.0509533469399}\n",
      "i 58 state {'dot_x': 598, 'dot_y': 69, 'dot': 601.9676071019104}\n",
      "i 59 state {'dot_x': 546, 'dot_y': 151, 'dot': 566.4953662652503}\n",
      "i 60 state {'dot_x': 471, 'dot_y': 227, 'dot': 522.8479702552168}\n",
      "i 61 state {'dot_x': 376, 'dot_y': 289, 'dot': 474.23306506400417}\n",
      "i 62 state {'dot_x': 266, 'dot_y': 330, 'dot': 423.8584669438609}\n",
      "i 63 state {'dot_x': 150, 'dot_y': 345, 'dot': 376.19808611953357}\n",
      "i 64 state {'dot_x': 34, 'dot_y': 330, 'dot': 331.746891469988}\n",
      "i 65 state {'dot_x': -67, 'dot_y': 308, 'dot': 315.2031091217217}\n"
     ]
    }
   ],
   "source": [
    "(size, dim) = state_coord.shape\n",
    "for i in range(0, size-1):\n",
    "    state = speed(state_coord[i:i+2])\n",
    "    print('i {} state {}'.format(i,state))"
   ]
  },
  {
   "cell_type": "code",
   "execution_count": 18,
   "metadata": {},
   "outputs": [],
   "source": [
    "state_coord = np.array([[10279,  2223],\n",
    " [10913,  2098]])"
   ]
  },
  {
   "cell_type": "code",
   "execution_count": 22,
   "metadata": {},
   "outputs": [
    {
     "name": "stdout",
     "output_type": "stream",
     "text": [
      "[[10279  2223]\n",
      " [10913  2098]]\n",
      "i 65 state {'dot_x': 634, 'dot_y': -125, 'dot': 646.2050758079822}\n"
     ]
    }
   ],
   "source": [
    "state = speed(state_coord[0:2])\n",
    "print(state_coord)\n",
    "print('i {} state {}'.format(i,state))"
   ]
  },
  {
   "cell_type": "code",
   "execution_count": 24,
   "metadata": {},
   "outputs": [
    {
     "data": {
      "text/plain": [
       "array([[3575, 7938]])"
      ]
     },
     "execution_count": 24,
     "metadata": {},
     "output_type": "execute_result"
    }
   ],
   "source": [
    "target = np.array([[ 3575,  7938]])\n",
    "target"
   ]
  },
  {
   "cell_type": "code",
   "execution_count": 25,
   "metadata": {},
   "outputs": [
    {
     "data": {
      "text/plain": [
       "array([[14134,  3474]])"
      ]
     },
     "execution_count": 25,
     "metadata": {},
     "output_type": "execute_result"
    }
   ],
   "source": [
    "position = np.array([[14134,  3474]])\n",
    "position"
   ]
  },
  {
   "cell_type": "code",
   "execution_count": 35,
   "metadata": {},
   "outputs": [],
   "source": [
    "def desired_velocity(target, position, dot):\n",
    "    desired_x = target[0,0] - position[0,0]\n",
    "    desired_y = target[0,1] - position[0,1]\n",
    "    divider = np.power(desired_x,2) + np.power(desired_y,2)\n",
    "    divider = np.sqrt(divider)\n",
    "    normalize = np.divide(dot, divider)\n",
    "    desired_x = desired_x * normalize\n",
    "    desired_y = desired_y * normalize\n",
    "    return np.array([[desired_x,desired_y]])\n"
   ]
  },
  {
   "cell_type": "code",
   "execution_count": 37,
   "metadata": {},
   "outputs": [
    {
     "name": "stdout",
     "output_type": "stream",
     "text": [
      "-595.1998209709226\n",
      "251.63102574241861\n"
     ]
    },
    {
     "data": {
      "text/plain": [
       "array([[-595.19982097,  251.63102574]])"
      ]
     },
     "execution_count": 37,
     "metadata": {},
     "output_type": "execute_result"
    }
   ],
   "source": [
    "desired = desired_velocity(target, position, state['dot'])\n",
    "desired"
   ]
  },
  {
   "cell_type": "code",
   "execution_count": 39,
   "metadata": {},
   "outputs": [
    {
     "data": {
      "text/plain": [
       "array([[-1229.19982097,   376.63102574]])"
      ]
     },
     "execution_count": 39,
     "metadata": {},
     "output_type": "execute_result"
    }
   ],
   "source": [
    "steering =np.array([[desired[0,0]-state['dot_x'],desired[0,1]-state['dot_y']]])\n",
    "steering"
   ]
  },
  {
   "cell_type": "code",
   "execution_count": 40,
   "metadata": {},
   "outputs": [
    {
     "ename": "NameError",
     "evalue": "name 'ADDition' is not defined",
     "output_type": "error",
     "traceback": [
      "\u001b[0;31m---------------------------------------------------------------------------\u001b[0m",
      "\u001b[0;31mNameError\u001b[0m                                 Traceback (most recent call last)",
      "\u001b[0;32m<ipython-input-40-b02a96108066>\u001b[0m in \u001b[0;36m<module>\u001b[0;34m\u001b[0m\n\u001b[0;32m----> 1\u001b[0;31m \u001b[0mADDition\u001b[0m\u001b[0;34m\u001b[0m\u001b[0;34m\u001b[0m\u001b[0m\n\u001b[0m",
      "\u001b[0;31mNameError\u001b[0m: name 'ADDition' is not defined"
     ]
    }
   ],
   "source": [
    "ADDition\n"
   ]
  }
 ],
 "metadata": {
  "kernelspec": {
   "display_name": "Python 3",
   "language": "python",
   "name": "python3"
  },
  "language_info": {
   "codemirror_mode": {
    "name": "ipython",
    "version": 3
   },
   "file_extension": ".py",
   "mimetype": "text/x-python",
   "name": "python",
   "nbconvert_exporter": "python",
   "pygments_lexer": "ipython3",
   "version": "3.6.8"
  }
 },
 "nbformat": 4,
 "nbformat_minor": 2
}
