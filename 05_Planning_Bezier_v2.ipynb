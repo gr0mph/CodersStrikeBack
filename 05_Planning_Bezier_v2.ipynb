{
 "cells": [
  {
   "cell_type": "code",
   "execution_count": null,
   "metadata": {},
   "outputs": [],
   "source": []
  },
  {
   "cell_type": "code",
   "execution_count": 1,
   "metadata": {},
   "outputs": [],
   "source": [
    "import numpy as np\n",
    "import matplotlib.pyplot as plt\n",
    "import scipy.special"
   ]
  },
  {
   "cell_type": "code",
   "execution_count": 2,
   "metadata": {},
   "outputs": [],
   "source": [
    "in_coord = np.array([[11973,1977],\n",
    " [10671,5019],\n",
    " [13977,3009],\n",
    " [3975,7780],\n",
    " [11973,1977]])"
   ]
  },
  {
   "cell_type": "code",
   "execution_count": 9,
   "metadata": {},
   "outputs": [],
   "source": [
    "class ConfigurePlanning:\n",
    "    def __init__(self):\n",
    "        self.index = -2\n",
    "        self.size = 1\n",
    "        self.planning_knowed = 0\n",
    "        self.right = -0.7\n",
    "        self.left = +0.5\n",
    "\n",
    "def bezier(points, steps=10):\n",
    "    n = len(points)\n",
    "    b = [scipy.special.binom(n - 1, i) for i in range(n)]\n",
    "    r = np.arange(n)\n",
    "    \n",
    "    for t in np.linspace(0, 1, steps):\n",
    "        u = (np.power(t, r) * np.power(1 - t, n - r - 1) * b)\n",
    "        yield t, u @ points\n",
    "\n",
    "def split_line(bezier_coord, in_coord, planning):\n",
    "    if planning.planning_knowed :\n",
    "        pass\n",
    "\n",
    "    elif planning.index == -2 :\n",
    "        pass\n",
    "    \n",
    "    elif planning.index == -1 :\n",
    "        (size, dim) = in_coord.shape\n",
    "        planning.size = size\n",
    "        \n",
    "        for i in range(0, size-1):\n",
    "            \n",
    "            x1 = in_coord[i,0]\n",
    "            y1 = in_coord[i,1]\n",
    "            x2 = in_coord[i+1,0]\n",
    "            y2 = in_coord[i+1,1]\n",
    "    \n",
    "            somme_x = (x1 + x2) / 2\n",
    "            difference_x = (x1 - x2) / 2\n",
    "    \n",
    "            somme_y = (y1 + y2) / 2\n",
    "            difference_y = (y1 - y2) / 2\n",
    "\n",
    "            point_entre_1et2_x = somme_x + planning.left * difference_x\n",
    "            point_entre_1et2_y = somme_y + planning.left * difference_y\n",
    "    \n",
    "            (size, dim) = bezier_coord.shape\n",
    "            if size == 1:\n",
    "                bezier_coord = np.array([[point_entre_1et2_x, point_entre_1et2_y],])\n",
    "            else:\n",
    "                add = np.array([[point_entre_1et2_x, point_entre_1et2_y],])\n",
    "                bezier_coord = np.concatenate((bezier_coord, add))\n",
    "    \n",
    "            point_entre_1et2_x = somme_x + planning.right * difference_x\n",
    "            point_entre_1et2_y = somme_y + planning.right * difference_y\n",
    "    \n",
    "            add = np.array([[point_entre_1et2_x, point_entre_1et2_y],])\n",
    "            bezier_coord = np.concatenate((bezier_coord, add))\n",
    "        \n",
    "            add = np.array([[x2, y2],])\n",
    "            bezier_coord = np.concatenate((bezier_coord, add))\n",
    "        \n",
    "        add = np.array([bezier_coord[0]])\n",
    "        first = np.array(bezier_coord[1:])\n",
    "        bezier_coord = np.concatenate((first, add))\n",
    "        #print(\"bezier_coord {}\".format(bezier_coord))\n",
    "    return bezier_coord\n",
    "    \n",
    "def define_array_planning(plan_coord, bezier_coord, planning):\n",
    "    if planning.planning_knowed :\n",
    "        pass\n",
    "\n",
    "    elif planning.index == -2 :\n",
    "        pass\n",
    "    \n",
    "    elif planning.index == -1 :\n",
    "        size = planning.size\n",
    "        i = 3\n",
    "        k = 0\n",
    "        \n",
    "        plan_coord = np.array([p for _, p in bezier(bezier_coord[k:k+i])])\n",
    "\n",
    "        for j in range(0,size-2):\n",
    "        #for j in range(0,3):\n",
    "            k = k + 3;\n",
    "            add = np.array([p for _, p in bezier(bezier_coord[k:k+i])])\n",
    "            plan_coord = np.concatenate((plan_coord, add))\n",
    "            \n",
    "        #planning.planning_knowed = 1\n",
    "    return plan_coord\n",
    "\n"
   ]
  },
  {
   "cell_type": "code",
   "execution_count": 50,
   "metadata": {},
   "outputs": [
    {
     "data": {
      "text/plain": [
       "array([[11973,  1977],\n",
       "       [10671,  5019]])"
      ]
     },
     "execution_count": 50,
     "metadata": {},
     "output_type": "execute_result"
    }
   ],
   "source": [
    "i = 0\n",
    "in_coord[i:i+2]"
   ]
  },
  {
   "cell_type": "code",
   "execution_count": 178,
   "metadata": {},
   "outputs": [],
   "source": [
    "planning = ConfigurePlanning()\n",
    "plan_coord  = np.array([[]])\n",
    "bezier_coord  = np.array([[]])\n"
   ]
  },
  {
   "cell_type": "code",
   "execution_count": 179,
   "metadata": {},
   "outputs": [
    {
     "name": "stdout",
     "output_type": "stream",
     "text": [
      "in_coord [[11973  1977]\n",
      " [10671  5019]\n",
      " [13977  3009]\n",
      " [ 3975  7780]\n",
      " [11973  1977]]\n",
      "bezier_coord [[10866.3   4562.7 ]\n",
      " [10671.    5019.  ]\n",
      " [11497.5   4516.5 ]\n",
      " [13481.1   3310.5 ]\n",
      " [13977.    3009.  ]\n",
      " [11476.5   4201.75]\n",
      " [ 5475.3   7064.35]\n",
      " [ 3975.    7780.  ]\n",
      " [ 5974.5   6329.25]\n",
      " [10773.3   2847.45]\n",
      " [11973.    1977.  ]\n",
      " [11647.5   2737.5 ]]\n"
     ]
    },
    {
     "data": {
      "image/png": "[encoded data removed]",
      "text/plain": [
       "<Figure size 432x288 with 1 Axes>"
      ]
     },
     "metadata": {
      "needs_background": "light"
     },
     "output_type": "display_data"
    }
   ],
   "source": [
    "planning.index = -1\n",
    "bezier_coord = split_line(bezier_coord,in_coord,planning)\n",
    "\n",
    "print(\"in_coord {}\".format(in_coord))\n",
    "print(\"bezier_coord {}\".format(bezier_coord))\n",
    "\n",
    "fig = plt.figure()\n",
    "plt.scatter(in_coord[:, 0], in_coord[:, 1], s=500, c='black')\n",
    "plt.scatter(bezier_coord[:, 0], bezier_coord[:, 1], c='green')\n",
    "#plt.scatter(curve_coord[:, 0], curve_coord[:, 1], c='red')\n",
    "plt.show(plt)"
   ]
  },
  {
   "cell_type": "code",
   "execution_count": 168,
   "metadata": {},
   "outputs": [
    {
     "data": {
      "text/plain": [
       "array([[10866.3 ,  4562.7 ],\n",
       "       [10671.  ,  5019.  ],\n",
       "       [11497.5 ,  4516.5 ],\n",
       "       [13481.1 ,  3310.5 ],\n",
       "       [13977.  ,  3009.  ],\n",
       "       [11476.5 ,  4201.75],\n",
       "       [ 5475.3 ,  7064.35],\n",
       "       [ 3975.  ,  7780.  ],\n",
       "       [ 5974.5 ,  6329.25],\n",
       "       [10773.3 ,  2847.45],\n",
       "       [11973.  ,  1977.  ],\n",
       "       [11647.5 ,  2737.5 ]])"
      ]
     },
     "execution_count": 168,
     "metadata": {},
     "output_type": "execute_result"
    }
   ],
   "source": [
    "add = np.array([bezier_coord[0]])\n",
    "#add\n",
    "first = np.array(bezier_coord[1:])\n",
    "#first\n",
    "bezier_coord = np.concatenate((first, add))\n",
    "bezier_coord"
   ]
  },
  {
   "cell_type": "code",
   "execution_count": 180,
   "metadata": {},
   "outputs": [
    {
     "name": "stdout",
     "output_type": "stream",
     "text": [
      "size 5\n",
      "bezier_coord [[10866.3   4562.7 ]\n",
      " [10671.    5019.  ]\n",
      " [11497.5   4516.5 ]\n",
      " [13481.1   3310.5 ]\n",
      " [13977.    3009.  ]\n",
      " [11476.5   4201.75]\n",
      " [ 5475.3   7064.35]\n",
      " [ 3975.    7780.  ]\n",
      " [ 5974.5   6329.25]\n",
      " [10773.3   2847.45]\n",
      " [11973.    1977.  ]\n",
      " [11647.5   2737.5 ]]\n",
      "plan_coord [[10866.3         4562.7       ]\n",
      " [10835.51481481  4652.26296296]\n",
      " [10829.95925926  4718.15185185]\n",
      " [10849.63333333  4760.36666667]\n",
      " [10894.53703704  4778.90740741]\n",
      " [10964.67037037  4773.77407407]\n",
      " [11060.03333333  4744.96666667]\n",
      " [11180.62592593  4692.48518519]\n",
      " [11326.44814815  4616.32962963]\n",
      " [11497.5         4516.5       ]\n",
      " [13481.1         3310.5       ]\n",
      " [13554.30740741  3261.94753086]\n",
      " [13553.52962963  3250.29012346]\n",
      " [13478.76666667  3275.52777778]\n",
      " [13330.01851852  3337.66049383]\n",
      " [13107.28518519  3436.6882716 ]\n",
      " [12810.56666667  3572.61111111]\n",
      " [12439.86296296  3745.42901235]\n",
      " [11995.17407407  3955.14197531]\n",
      " [11476.5         4201.75      ]\n",
      " [ 5475.3         7064.35      ]\n",
      " [ 5185.10740741  7196.63765432]\n",
      " [ 4981.32962963  7275.43395062]\n",
      " [ 4863.96666667  7300.73888889]\n",
      " [ 4833.01851852  7272.55246914]\n",
      " [ 4888.48518519  7190.87469136]\n",
      " [ 5030.36666667  7055.70555556]\n",
      " [ 5258.66296296  6867.04506173]\n",
      " [ 5573.37407407  6624.89320988]\n",
      " [ 5974.5         6329.25      ]\n",
      " [10773.3         2847.45      ]\n",
      " [11021.07037037  2674.15185185]\n",
      " [11231.18148148  2541.12407407]\n",
      " [11403.63333333  2448.36666667]\n",
      " [11538.42592593  2395.87962963]\n",
      " [11635.55925926  2383.66296296]\n",
      " [11695.03333333  2411.71666667]\n",
      " [11716.84814815  2480.04074074]\n",
      " [11701.0037037   2588.63518519]\n",
      " [11647.5         2737.5       ]]\n"
     ]
    },
    {
     "data": {
      "image/png": "[encoded data removed]",
      "text/plain": [
       "<Figure size 432x288 with 1 Axes>"
      ]
     },
     "metadata": {
      "needs_background": "light"
     },
     "output_type": "display_data"
    }
   ],
   "source": [
    "planning.index = -1\n",
    "plan_coord  = np.array([[]])\n",
    "\n",
    "plan_coord = define_array_planning(plan_coord,bezier_coord,planning)\n",
    "\n",
    "print(\"bezier_coord {}\".format(bezier_coord))\n",
    "print(\"plan_coord {}\".format(plan_coord))\n",
    "\n",
    "fig = plt.figure()\n",
    "plt.scatter(in_coord[:, 0], in_coord[:, 1], s=500, c='black')\n",
    "plt.scatter(bezier_coord[:, 0], bezier_coord[:, 1], s=100, c='green')\n",
    "plt.scatter(plan_coord[:, 0], plan_coord[:, 1], s=20, c='red')\n",
    "plt.show(plt)"
   ]
  },
  {
   "cell_type": "code",
   "execution_count": 10,
   "metadata": {},
   "outputs": [],
   "source": [
    "planning = ConfigurePlanning()\n",
    "plan_coord  = np.array([[]])\n",
    "bezier_coord  = np.array([[]])\n",
    "planning.index = -1"
   ]
  },
  {
   "cell_type": "code",
   "execution_count": 11,
   "metadata": {},
   "outputs": [
    {
     "name": "stdout",
     "output_type": "stream",
     "text": [
      "-1\n",
      "in_coord [[11973  1977]\n",
      " [10671  5019]\n",
      " [13977  3009]\n",
      " [ 3975  7780]\n",
      " [11973  1977]]\n",
      "bezier_coord [[10866.3   4562.7 ]\n",
      " [10671.    5019.  ]\n",
      " [11497.5   4516.5 ]\n",
      " [13481.1   3310.5 ]\n",
      " [13977.    3009.  ]\n",
      " [11476.5   4201.75]\n",
      " [ 5475.3   7064.35]\n",
      " [ 3975.    7780.  ]\n",
      " [ 5974.5   6329.25]\n",
      " [10773.3   2847.45]\n",
      " [11973.    1977.  ]\n",
      " [11647.5   2737.5 ]]\n"
     ]
    },
    {
     "data": {
      "image/png": "[encoded data removed]",
      "text/plain": [
       "<Figure size 432x288 with 1 Axes>"
      ]
     },
     "metadata": {
      "needs_background": "light"
     },
     "output_type": "display_data"
    }
   ],
   "source": [
    "bezier_coord = split_line(bezier_coord,in_coord,planning)\n",
    "plan_coord = define_array_planning(plan_coord,bezier_coord,planning)\n",
    "\n",
    "print(\"in_coord {}\".format(in_coord))\n",
    "print(\"bezier_coord {}\".format(bezier_coord))\n",
    "\n",
    "fig = plt.figure()\n",
    "plt.scatter(in_coord[:, 0], in_coord[:, 1], s=500, c='black')\n",
    "plt.plot(in_coord[:, 0], in_coord[:, 1], c='black')\n",
    "plt.scatter(bezier_coord[:, 0], bezier_coord[:, 1], s=100, c='green')\n",
    "plt.scatter(plan_coord[:, 0], plan_coord[:, 1], s=20, c='red')\n",
    "plt.show(plt)"
   ]
  },
  {
   "cell_type": "code",
   "execution_count": null,
   "metadata": {},
   "outputs": [],
   "source": []
  },
  {
   "cell_type": "code",
   "execution_count": 156,
   "metadata": {},
   "outputs": [
    {
     "data": {
      "text/plain": [
       "array([[10671.  ,  5019.  ],\n",
       "       [11497.5 ,  4516.5 ],\n",
       "       [13481.1 ,  3310.5 ],\n",
       "       [13977.  ,  3009.  ],\n",
       "       [11476.5 ,  4201.75],\n",
       "       [ 5475.3 ,  7064.35],\n",
       "       [ 3975.  ,  7780.  ],\n",
       "       [ 5974.5 ,  6329.25],\n",
       "       [10773.3 ,  2847.45],\n",
       "       [10866.3 ,  4562.7 ]])"
      ]
     },
     "execution_count": 156,
     "metadata": {},
     "output_type": "execute_result"
    }
   ],
   "source": [
    "add = np.array([bezier_coord[0]])\n",
    "add\n",
    "\n",
    "first = np.array(bezier_coord[1:-1])\n",
    "#bezier_coord = np.concatenate((bezier_coord, add))\n",
    "#print(\"bezier_coord {}\".format(bezier_coord))\n",
    "\n",
    "#first\n",
    "bezier_coord = np.concatenate((first, add))\n",
    "bezier_coord\n"
   ]
  },
  {
   "cell_type": "code",
   "execution_count": null,
   "metadata": {},
   "outputs": [],
   "source": []
  },
  {
   "cell_type": "code",
   "execution_count": null,
   "metadata": {},
   "outputs": [],
   "source": []
  },
  {
   "cell_type": "code",
   "execution_count": null,
   "metadata": {},
   "outputs": [],
   "source": []
  },
  {
   "cell_type": "code",
   "execution_count": null,
   "metadata": {},
   "outputs": [],
   "source": []
  },
  {
   "cell_type": "code",
   "execution_count": null,
   "metadata": {},
   "outputs": [],
   "source": []
  }
 ],
 "metadata": {
  "kernelspec": {
   "display_name": "Python 3",
   "language": "python",
   "name": "python3"
  },
  "language_info": {
   "codemirror_mode": {
    "name": "ipython",
    "version": 3
   },
   "file_extension": ".py",
   "mimetype": "text/x-python",
   "name": "python",
   "nbconvert_exporter": "python",
   "pygments_lexer": "ipython3",
   "version": "3.6.8"
  }
 },
 "nbformat": 4,
 "nbformat_minor": 2
}
