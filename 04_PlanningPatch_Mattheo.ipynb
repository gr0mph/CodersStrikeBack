{
 "cells": [
  {
   "cell_type": "code",
   "execution_count": null,
   "metadata": {},
   "outputs": [],
   "source": [
    "\n",
    "\n",
    "              "
   ]
  },
  {
   "cell_type": "code",
   "execution_count": 1,
   "metadata": {},
   "outputs": [],
   "source": [
    "import numpy as np\n",
    "import matplotlib.pyplot as plt\n",
    "import scipy.special"
   ]
  },
  {
   "cell_type": "code",
   "execution_count": 2,
   "metadata": {},
   "outputs": [],
   "source": [
    "in_coord = np.array([[11973,1977],\n",
    " [10671,5019]])"
   ]
  },
  {
   "cell_type": "code",
   "execution_count": 3,
   "metadata": {},
   "outputs": [
    {
     "name": "stdout",
     "output_type": "stream",
     "text": [
      "x1 11973 y1 1977 x2 10671 y2 5019\n"
     ]
    }
   ],
   "source": [
    "x1 = in_coord[0,0]\n",
    "y1 = in_coord[0,1]\n",
    "\n",
    "x2 = in_coord[1,0]\n",
    "y2 = in_coord[1,1]\n",
    "\n",
    "print(\"x1 {} y1 {} x2 {} y2 {}\".format(x1,y1,x2,y2))"
   ]
  },
  {
   "cell_type": "code",
   "execution_count": 32,
   "metadata": {},
   "outputs": [
    {
     "data": {
      "text/plain": [
       "<matplotlib.collections.PathCollection at 0x7fe712cb07b8>"
      ]
     },
     "execution_count": 32,
     "metadata": {},
     "output_type": "execute_result"
    },
    {
     "data": {
      "image/png": "[encoded data removed]",
      "text/plain": [
       "<Figure size 432x288 with 1 Axes>"
      ]
     },
     "metadata": {
      "needs_background": "light"
     },
     "output_type": "display_data"
    }
   ],
   "source": [
    "# A faire : calcul de la somme en x\n",
    "somme_x = x1 + x2\n",
    "somme_x = somme_x / 2\n",
    " \n",
    "# A faire : calcul de la difference en xx\n",
    "difference_x = x1 - x2\n",
    "difference_x = difference_x / 2\n",
    "\n",
    "# A faire : calcul de la somme en y\n",
    "somme_y = y1 + y2\n",
    "somme_y = somme_y / 2\n",
    "\n",
    "# A faire : calcul de la difference en y\n",
    "difference_y = y1 - y2\n",
    "difference_y = difference_y / 2 \n",
    "\n",
    "# Entre -1.0 et 1.0\n",
    "factor = -0.8\n",
    "\n",
    "point_entre_1et2_x = somme_x + (factor) * difference_x\n",
    "point_entre_1et2_y = somme_y + (factor) * difference_y\n",
    "\n",
    "fig = plt.figure()\n",
    "plt.scatter(in_coord[:, 0], in_coord[:, 1], s= 500, c='green')\n",
    "plt.plot(in_coord[:, 0], in_coord[:, 1])\n",
    "plt.scatter(point_entre_1et2_x, point_entre_1et2_y, s=200, c='black')\n",
    "\n",
    "#x1\n",
    "#point_entre_1et2_x "
   ]
  },
  {
   "cell_type": "code",
   "execution_count": null,
   "metadata": {},
   "outputs": [],
   "source": [
    "\n",
    "\n",
    "\n"
   ]
  },
  {
   "cell_type": "code",
   "execution_count": null,
   "metadata": {},
   "outputs": [],
   "source": []
  },
  {
   "cell_type": "code",
   "execution_count": null,
   "metadata": {},
   "outputs": [],
   "source": []
  },
  {
   "cell_type": "code",
   "execution_count": null,
   "metadata": {},
   "outputs": [],
   "source": []
  },
  {
   "cell_type": "code",
   "execution_count": null,
   "metadata": {},
   "outputs": [],
   "source": []
  }
 ],
 "metadata": {
  "kernelspec": {
   "display_name": "Python 3",
   "language": "python",
   "name": "python3"
  },
  "language_info": {
   "codemirror_mode": {
    "name": "ipython",
    "version": 3
   },
   "file_extension": ".py",
   "mimetype": "text/x-python",
   "name": "python",
   "nbconvert_exporter": "python",
   "pygments_lexer": "ipython3",
   "version": "3.6.8"
  }
 },
 "nbformat": 4,
 "nbformat_minor": 2
}
