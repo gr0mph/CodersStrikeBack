{
 "cells": [
  {
   "cell_type": "code",
   "execution_count": null,
   "metadata": {},
   "outputs": [],
   "source": []
  },
  {
   "cell_type": "code",
   "execution_count": null,
   "metadata": {},
   "outputs": [],
   "source": []
  },
  {
   "cell_type": "raw",
   "metadata": {},
   "source": [
    "13562, 7573\n",
    "12486, 1364\n",
    "10549, 5977\n",
    "3606, 5188"
   ]
  },
  {
   "cell_type": "raw",
   "metadata": {},
   "source": [
    "7230, 6670\n",
    "5435, 2810\n",
    "10345, 3370\n",
    "11220, 5397"
   ]
  },
  {
   "cell_type": "raw",
   "metadata": {},
   "source": [
    "5629, 2574\n",
    "4079, 7409\n",
    "13485, 2340\n",
    "12933, 7216\n"
   ]
  },
  {
   "cell_type": "raw",
   "metadata": {},
   "source": [
    "3296, 7207\n",
    "14555, 7712\n",
    "10567, 5081\n",
    "13087, 2296\n",
    "4543, 2180\n",
    "7380, 4929"
   ]
  },
  {
   "cell_type": "code",
   "execution_count": null,
   "metadata": {},
   "outputs": [],
   "source": []
  },
  {
   "cell_type": "code",
   "execution_count": null,
   "metadata": {},
   "outputs": [],
   "source": []
  },
  {
   "cell_type": "code",
   "execution_count": null,
   "metadata": {},
   "outputs": [],
   "source": []
  },
  {
   "cell_type": "code",
   "execution_count": null,
   "metadata": {},
   "outputs": [],
   "source": []
  },
  {
   "cell_type": "code",
   "execution_count": null,
   "metadata": {},
   "outputs": [],
   "source": []
  },
  {
   "cell_type": "code",
   "execution_count": null,
   "metadata": {},
   "outputs": [],
   "source": [
    "                              "
   ]
  }
 ],
 "metadata": {
  "kernelspec": {
   "display_name": "Python 3",
   "language": "python",
   "name": "python3"
  },
  "language_info": {
   "codemirror_mode": {
    "name": "ipython",
    "version": 3
   },
   "file_extension": ".py",
   "mimetype": "text/x-python",
   "name": "python",
   "nbconvert_exporter": "python",
   "pygments_lexer": "ipython3",
   "version": "3.6.8"
  }
 },
 "nbformat": 4,
 "nbformat_minor": 2
}
