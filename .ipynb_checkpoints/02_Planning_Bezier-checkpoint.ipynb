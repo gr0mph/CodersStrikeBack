{
 "cells": [
  {
   "cell_type": "code",
   "execution_count": null,
   "metadata": {},
   "outputs": [],
   "source": []
  },
  {
   "cell_type": "code",
   "execution_count": 1,
   "metadata": {},
   "outputs": [],
   "source": [
    "import numpy as np\n",
    "import matplotlib.pyplot as plt\n",
    "import scipy.special"
   ]
  },
  {
   "cell_type": "code",
   "execution_count": 2,
   "metadata": {},
   "outputs": [],
   "source": [
    "in_coord = np.array([[11973,1977],\n",
    " [10671,5019],\n",
    " [13977,3009],\n",
    " [3975,7780],\n",
    " [11973,1977]])"
   ]
  },
  {
   "cell_type": "code",
   "execution_count": 3,
   "metadata": {},
   "outputs": [],
   "source": [
    "class ConfigurePlanning:\n",
    "    def __init__(self):\n",
    "        self.index = -2\n",
    "        self.size = 1\n",
    "        self.planning_knowed = 0\n",
    "\n",
    "def bezier(points, steps=10):\n",
    "    n = len(points)\n",
    "    b = [scipy.special.binom(n - 1, i) for i in range(n)]\n",
    "    r = np.arange(n)\n",
    "    \n",
    "    for t in np.linspace(0, 1, steps):\n",
    "        u = (np.power(t, r) * np.power(1 - t, n - r - 1) * b)\n",
    "        yield t, u @ points\n",
    "\n",
    "\n",
    "def define_array_planning(plan_coord, in_coord, planning):\n",
    "    if planning.planning_knowed :\n",
    "        pass\n",
    "\n",
    "    elif planning.index == -2 :\n",
    "        pass\n",
    "    \n",
    "    elif planning.index == -1 :\n",
    "        (size, dim) = in_coord.shape\n",
    "        planning.size = size\n",
    "        for i in range(0, size-1):\n",
    "            x1 = in_coord[i,0]\n",
    "            y1 = in_coord[i,1]\n",
    "            x2 = in_coord[i+1,0]\n",
    "            y2 = in_coord[i+1,1]\n",
    "    \n",
    "            if planning.index == -1:\n",
    "                temp = np.array([[(int) (x1 + x2)/2, (int) (y1 + y2)/2],])\n",
    "                planning.index = planning.index + 1\n",
    "            else:\n",
    "                add = np.array([[(int) (x1 + x2)/2, (int) (y1 + y2)/2],])\n",
    "                temp = np.concatenate((temp, add))\n",
    "            \n",
    "            add = np.array([[x2, y2],])\n",
    "            temp = np.concatenate((temp, add))\n",
    "\n",
    "        add = np.array([temp[0],])\n",
    "        temp = np.concatenate((temp, add))\n",
    "\n",
    "        i = 3\n",
    "        k = 0\n",
    "        \n",
    "        plan_coord = np.array([p for _, p in bezier(temp[k:k+i])])\n",
    "\n",
    "        for j in range(0,size-1):\n",
    "            k = k + 2;\n",
    "            add = np.array([p for _, p in bezier(temp[k:k+i])])\n",
    "            plan_coord = np.concatenate((plan_coord, add))\n",
    "        \n",
    "#        (size, dim) = in_coord.shape\n",
    "#        for i in range(0, size):\n",
    "#            x = plan_coord[i,0]\n",
    "#            y = plan_coord[i,1]\n",
    "#            if i == 0:\n",
    "#                plan_coord = np.array([[(int) x, (int)y],])\n",
    "#            else :\n",
    "#                add = np.array([[(int) x, (int)y],])\n",
    "#                plan_coord = np.concatenate((plan_coord, add))\n",
    "\n",
    "            \n",
    "        planning.planning_knowed = 1\n",
    "    return plan_coord"
   ]
  },
  {
   "cell_type": "code",
   "execution_count": 4,
   "metadata": {},
   "outputs": [],
   "source": [
    "planning = ConfigurePlanning()\n",
    "plan_coord  = np.array([[]])"
   ]
  },
  {
   "cell_type": "code",
   "execution_count": 5,
   "metadata": {},
   "outputs": [
    {
     "data": {
      "image/png": "[encoded data removed]",
      "text/plain": [
       "<Figure size 432x288 with 1 Axes>"
      ]
     },
     "metadata": {
      "needs_background": "light"
     },
     "output_type": "display_data"
    }
   ],
   "source": [
    "planning.index = -1\n",
    "plan_coord = define_array_planning(plan_coord,in_coord,planning)\n",
    "\n",
    "\n",
    "fig = plt.figure()\n",
    "plt.scatter(in_coord[:, 0], in_coord[:, 1], s=500, c='black')\n",
    "plt.scatter(plan_coord[:, 0], plan_coord[:, 1], c='green')\n",
    "#plt.scatter(curve_coord[:, 0], curve_coord[:, 1], c='red')\n",
    "plt.show(plt)\n"
   ]
  },
  {
   "cell_type": "code",
   "execution_count": 6,
   "metadata": {},
   "outputs": [
    {
     "data": {
      "text/plain": [
       "array([[11322.        ,  3498.        ],\n",
       "       [11205.77777778,  3804.81481481],\n",
       "       [11146.44444444,  4049.25925926],\n",
       "       [11144.        ,  4231.33333333],\n",
       "       [11198.44444444,  4351.03703704],\n",
       "       [11309.77777778,  4408.37037037],\n",
       "       [11478.        ,  4403.33333333],\n",
       "       [11703.11111111,  4335.92592593],\n",
       "       [11985.11111111,  4206.14814815],\n",
       "       [12324.        ,  4014.        ],\n",
       "       [12324.        ,  4014.        ],\n",
       "       [12609.18518519,  3832.52469136],\n",
       "       [12730.07407407,  3734.7654321 ],\n",
       "       [12686.66666667,  3720.72222222],\n",
       "       [12478.96296296,  3790.39506173],\n",
       "       [12106.96296296,  3943.78395062],\n",
       "       [11570.66666667,  4180.88888889],\n",
       "       [10870.07407407,  4501.70987654],\n",
       "       [10005.18518519,  4906.24691358],\n",
       "       [ 8976.        ,  5394.5       ],\n",
       "       [ 8976.        ,  5394.5       ],\n",
       "       [ 7975.77777778,  5859.33950617],\n",
       "       [ 7197.77777778,  6193.63580247],\n",
       "       [ 6642.        ,  6397.38888889],\n",
       "       [ 6308.44444444,  6470.59876543],\n",
       "       [ 6197.11111111,  6413.2654321 ],\n",
       "       [ 6308.        ,  6225.38888889],\n",
       "       [ 6641.11111111,  5906.9691358 ],\n",
       "       [ 7196.44444444,  5458.00617284],\n",
       "       [ 7974.        ,  4878.5       ],\n",
       "       [ 7974.        ,  4878.5       ],\n",
       "       [ 8805.25925926,  4288.32098765],\n",
       "       [ 9521.7037037 ,  3807.33950617],\n",
       "       [10123.33333333,  3435.55555556],\n",
       "       [10610.14814815,  3172.9691358 ],\n",
       "       [10982.14814815,  3019.58024691],\n",
       "       [11239.33333333,  2975.38888889],\n",
       "       [11381.7037037 ,  3040.39506173],\n",
       "       [11409.25925926,  3214.59876543],\n",
       "       [11322.        ,  3498.        ],\n",
       "       [11322.        ,  3498.        ],\n",
       "       [11322.        ,  3498.        ],\n",
       "       [11322.        ,  3498.        ],\n",
       "       [11322.        ,  3498.        ],\n",
       "       [11322.        ,  3498.        ],\n",
       "       [11322.        ,  3498.        ],\n",
       "       [11322.        ,  3498.        ],\n",
       "       [11322.        ,  3498.        ],\n",
       "       [11322.        ,  3498.        ],\n",
       "       [11322.        ,  3498.        ]])"
      ]
     },
     "execution_count": 6,
     "metadata": {},
     "output_type": "execute_result"
    }
   ],
   "source": [
    "plan_coord"
   ]
  },
  {
   "cell_type": "markdown",
   "metadata": {},
   "source": [
    "### Seulement pour le debug / la trame"
   ]
  },
  {
   "cell_type": "code",
   "execution_count": 3,
   "metadata": {},
   "outputs": [
    {
     "ename": "NameError",
     "evalue": "name 'plan_coord' is not defined",
     "output_type": "error",
     "traceback": [
      "\u001b[0;31m---------------------------------------------------------------------------\u001b[0m",
      "\u001b[0;31mNameError\u001b[0m                                 Traceback (most recent call last)",
      "\u001b[0;32m<ipython-input-3-f2d709d61c80>\u001b[0m in \u001b[0;36m<module>\u001b[0;34m\u001b[0m\n\u001b[0;32m----> 1\u001b[0;31m \u001b[0mplan_coord\u001b[0m\u001b[0;34m\u001b[0m\u001b[0;34m\u001b[0m\u001b[0m\n\u001b[0m",
      "\u001b[0;31mNameError\u001b[0m: name 'plan_coord' is not defined"
     ]
    }
   ],
   "source": [
    "plan_coord"
   ]
  },
  {
   "cell_type": "code",
   "execution_count": 4,
   "metadata": {},
   "outputs": [
    {
     "data": {
      "text/plain": [
       "array([[11973,  1977],\n",
       "       [10671,  5019],\n",
       "       [13977,  3009],\n",
       "       [ 3975,  7780],\n",
       "       [11973,  1977],\n",
       "       [11973,  1977]])"
      ]
     },
     "execution_count": 4,
     "metadata": {},
     "output_type": "execute_result"
    }
   ],
   "source": [
    "add = np.array([in_coord[0],])\n",
    "in_coord = np.concatenate((in_coord, add))\n",
    "in_coord"
   ]
  },
  {
   "cell_type": "code",
   "execution_count": 5,
   "metadata": {},
   "outputs": [
    {
     "data": {
      "image/png": "[encoded data removed]",
      "text/plain": [
       "<Figure size 432x288 with 1 Axes>"
      ]
     },
     "metadata": {
      "needs_background": "light"
     },
     "output_type": "display_data"
    }
   ],
   "source": [
    "fig = plt.figure()\n",
    "plt.scatter(in_coord[:, 0], in_coord[:, 1], c='black')\n",
    "plt.show(plt)"
   ]
  },
  {
   "cell_type": "code",
   "execution_count": 6,
   "metadata": {},
   "outputs": [
    {
     "data": {
      "text/plain": [
       "6"
      ]
     },
     "execution_count": 6,
     "metadata": {},
     "output_type": "execute_result"
    }
   ],
   "source": [
    "(size, dim) = in_coord.shape\n",
    "size"
   ]
  },
  {
   "cell_type": "code",
   "execution_count": 16,
   "metadata": {},
   "outputs": [
    {
     "name": "stdout",
     "output_type": "stream",
     "text": [
      "x1 11973 y1 1977 x2 10671 y2 5019\n",
      "OK\n",
      "x1 10671 y1 5019 x2 13977 y2 3009\n",
      "OK\n",
      "x1 13977 y1 3009 x2 3975 y2 7780\n",
      "OK\n",
      "x1 3975 y1 7780 x2 11973 y2 1977\n",
      "OK\n"
     ]
    }
   ],
   "source": [
    "for i in range(0, size - 1):\n",
    "    x1 = in_coord[i,0]\n",
    "    y1 = in_coord[i,1]\n",
    "    x2 = in_coord[i+1,0]\n",
    "    y2 = in_coord[i+1,1]\n",
    "    print(\"x1 {} y1 {} x2 {} y2 {}\".format(x1,y1,x2,y2))\n",
    "    print(\"OK\")\n",
    "        "
   ]
  },
  {
   "cell_type": "code",
   "execution_count": 56,
   "metadata": {},
   "outputs": [
    {
     "name": "stdout",
     "output_type": "stream",
     "text": [
      "plan_coord --> [[11322.   3498. ]\n",
      " [10671.   5019. ]\n",
      " [12324.   4014. ]\n",
      " [13977.   3009. ]\n",
      " [ 8976.   5394.5]\n",
      " [ 3975.   7780. ]\n",
      " [ 7974.   4878.5]\n",
      " [11973.   1977. ]\n",
      " [11322.   3498. ]]\n"
     ]
    }
   ],
   "source": [
    "plan_coord = np.array([[]])\n",
    "index = -1\n",
    "\n",
    "for i in range(0, size - 1):\n",
    "    x1 = in_coord[i,0]\n",
    "    y1 = in_coord[i,1]\n",
    "    x2 = in_coord[i+1,0]\n",
    "    y2 = in_coord[i+1,1]\n",
    "    \n",
    "    if index == -1:\n",
    "        plan_coord = np.array([[(int) (x1 + x2)/2, (int) (y1 + y2)/2],])\n",
    "        index = index + 1\n",
    "    else:\n",
    "        add = np.array([[(int) (x1 + x2)/2, (int) (y1 + y2)/2],])\n",
    "        plan_coord = np.concatenate((plan_coord, add))\n",
    "    \n",
    "    add = np.array([[x2, y2],])\n",
    "    plan_coord = np.concatenate((plan_coord, add))\n",
    "\n",
    "add = np.array([plan_coord[0],])\n",
    "plan_coord = np.concatenate((plan_coord, add))\n",
    "\n",
    "\n",
    "print(\"plan_coord --> {}\".format(plan_coord))"
   ]
  },
  {
   "cell_type": "code",
   "execution_count": 57,
   "metadata": {},
   "outputs": [
    {
     "data": {
      "image/png": "[encoded data removed]",
      "text/plain": [
       "<Figure size 432x288 with 1 Axes>"
      ]
     },
     "metadata": {
      "needs_background": "light"
     },
     "output_type": "display_data"
    }
   ],
   "source": [
    "fig = plt.figure()\n",
    "plt.scatter(in_coord[:, 0], in_coord[:, 1], s=500, c='black')\n",
    "plt.scatter(plan_coord[:, 0], plan_coord[:, 1], s=100, c='green')\n",
    "plt.show(plt)"
   ]
  },
  {
   "cell_type": "code",
   "execution_count": 50,
   "metadata": {},
   "outputs": [],
   "source": [
    "def bezier(points, steps=10):\n",
    "    n = len(points)\n",
    "    b = [scipy.special.binom(n - 1, i) for i in range(n)]\n",
    "    r = np.arange(n)\n",
    "    \n",
    "    #print(\"points {} binom {} r {}\".format(points, b, r))\n",
    "    \n",
    "    for t in np.linspace(0, 1, steps):\n",
    "        u = np.power(t, r) * np.power(1 - t, n - r - 1) * b\n",
    "        #print(\"u {}\".format(u))\n",
    "        yield t, u @ points"
   ]
  },
  {
   "cell_type": "code",
   "execution_count": 64,
   "metadata": {},
   "outputs": [
    {
     "data": {
      "image/png": "[encoded data removed]",
      "text/plain": [
       "<Figure size 432x288 with 1 Axes>"
      ]
     },
     "metadata": {
      "needs_background": "light"
     },
     "output_type": "display_data"
    }
   ],
   "source": [
    "i = 3\n",
    "k = 0\n",
    "curve_coord = np.array([p for _, p in bezier(plan_coord[k:k+i])])\n",
    "\n",
    "for j in range(0,size-1):\n",
    "    k = k + 2;\n",
    "    add = np.array([p for _, p in bezier(plan_coord[k:k+i])])\n",
    "    curve_coord = np.concatenate((curve_coord, add))\n",
    "\n",
    "#curve_coord\n",
    "\n",
    "fig = plt.figure()\n",
    "plt.scatter(in_coord[:, 0], in_coord[:, 1], s=500, c='black')\n",
    "plt.scatter(plan_coord[:, 0], plan_coord[:, 1], s=100, c='green')\n",
    "plt.scatter(curve_coord[:, 0], curve_coord[:, 1], c='red')\n",
    "plt.show(plt)\n"
   ]
  }
 ],
 "metadata": {
  "kernelspec": {
   "display_name": "Python 3",
   "language": "python",
   "name": "python3"
  },
  "language_info": {
   "codemirror_mode": {
    "name": "ipython",
    "version": 3
   },
   "file_extension": ".py",
   "mimetype": "text/x-python",
   "name": "python",
   "nbconvert_exporter": "python",
   "pygments_lexer": "ipython3",
   "version": "3.6.8"
  }
 },
 "nbformat": 4,
 "nbformat_minor": 2
}
