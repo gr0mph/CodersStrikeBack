{
 "cells": [
  {
   "cell_type": "code",
   "execution_count": null,
   "metadata": {},
   "outputs": [],
   "source": []
  },
  {
   "cell_type": "code",
   "execution_count": 1,
   "metadata": {},
   "outputs": [],
   "source": [
    "import numpy as np\n",
    "from math import hypot\n",
    "import matplotlib.pyplot as plt\n",
    "import time"
   ]
  },
  {
   "cell_type": "code",
   "execution_count": 2,
   "metadata": {},
   "outputs": [],
   "source": [
    "plan_coord = np.array([[11322.        ,  3498.        ],\n",
    "       [11205.77777778,  3804.81481481],\n",
    "       [11146.44444444,  4049.25925926],\n",
    "       [11144.        ,  4231.33333333],\n",
    "       [11198.44444444,  4351.03703704],\n",
    "       [11309.77777778,  4408.37037037],\n",
    "       [11478.        ,  4403.33333333],\n",
    "       [11703.11111111,  4335.92592593],\n",
    "       [11985.11111111,  4206.14814815],\n",
    "       [12324.        ,  4014.        ],\n",
    "       [12324.        ,  4014.        ],\n",
    "       [12609.18518519,  3832.52469136],\n",
    "       [12730.07407407,  3734.7654321 ],\n",
    "       [12686.66666667,  3720.72222222],\n",
    "       [12478.96296296,  3790.39506173],\n",
    "       [12106.96296296,  3943.78395062],\n",
    "       [11570.66666667,  4180.88888889],\n",
    "       [10870.07407407,  4501.70987654],\n",
    "       [10005.18518519,  4906.24691358],\n",
    "       [ 8976.        ,  5394.5       ],\n",
    "       [ 8976.        ,  5394.5       ],\n",
    "       [ 7975.77777778,  5859.33950617],\n",
    "       [ 7197.77777778,  6193.63580247],\n",
    "       [ 6642.        ,  6397.38888889],\n",
    "       [ 6308.44444444,  6470.59876543],\n",
    "       [ 6197.11111111,  6413.2654321 ],\n",
    "       [ 6308.        ,  6225.38888889],\n",
    "       [ 6641.11111111,  5906.9691358 ],\n",
    "       [ 7196.44444444,  5458.00617284],\n",
    "       [ 7974.        ,  4878.5       ],\n",
    "       [ 7974.        ,  4878.5       ],\n",
    "       [ 8805.25925926,  4288.32098765],\n",
    "       [ 9521.7037037 ,  3807.33950617],\n",
    "       [10123.33333333,  3435.55555556],\n",
    "       [10610.14814815,  3172.9691358 ],\n",
    "       [10982.14814815,  3019.58024691],\n",
    "       [11239.33333333,  2975.38888889],\n",
    "       [11381.7037037 ,  3040.39506173],\n",
    "       [11409.25925926,  3214.59876543],\n",
    "       [11322.        ,  3498.        ],\n",
    "       [11322.        ,  3498.        ],\n",
    "       [11322.        ,  3498.        ],\n",
    "       [11322.        ,  3498.        ],\n",
    "       [11322.        ,  3498.        ],\n",
    "       [11322.        ,  3498.        ],\n",
    "       [11322.        ,  3498.        ],\n",
    "       [11322.        ,  3498.        ],\n",
    "       [11322.        ,  3498.        ],\n",
    "       [11322.        ,  3498.        ],\n",
    "       [11322.        ,  3498.        ]])"
   ]
  },
  {
   "cell_type": "code",
   "execution_count": 3,
   "metadata": {},
   "outputs": [],
   "source": [
    "class RunTracking:\n",
    "    def __init__(self):\n",
    "        self.distance = 300\n",
    "        self.index = 0\n",
    "        self.tracking_started = 0\n",
    "\n",
    "def in_radius(c_x, c_y, r, x, y):\n",
    "    return hypot(c_x-x, c_y-y) <= r\n",
    "\n",
    "def tracking(plan_coord, x, y, tracking):\n",
    "    (size, dim) = plan_coord.shape\n",
    "    \n",
    "    status = True\n",
    "    while status :\n",
    "        status = in_radius( \n",
    "            (plan_coord[tracking.index,0]),\n",
    "            (plan_coord[tracking.index,1]),\n",
    "            tracking.distance,\n",
    "            x,\n",
    "            y)\n",
    "    \n",
    "        if  status is True :\n",
    "            tracking.index = tracking.index + 1\n",
    "        \n",
    "        if tracking.index == size :\n",
    "            tracking.index = 0\n",
    "\n",
    "            \n",
    "    x = plan_coord[tracking.index,0]\n",
    "    y = plan_coord[tracking.index,1]\n",
    "    x = (int) (x)\n",
    "    y = (int) (y)\n",
    "    \n",
    "    track_coord = np.array([[x,y]])\n",
    "    return track_coord\n"
   ]
  },
  {
   "cell_type": "code",
   "execution_count": 4,
   "metadata": {},
   "outputs": [],
   "source": [
    "track = RunTracking()"
   ]
  },
  {
   "cell_type": "code",
   "execution_count": 5,
   "metadata": {},
   "outputs": [
    {
     "data": {
      "image/png": "[encoded data removed]",
      "text/plain": [
       "<Figure size 432x288 with 1 Axes>"
      ]
     },
     "metadata": {
      "needs_background": "light"
     },
     "output_type": "display_data"
    }
   ],
   "source": [
    "track.tracking_started = 1\n",
    "x = 0\n",
    "y = 0\n",
    "track_coord = tracking(plan_coord, x, y, track)\n",
    "\n",
    "x = track_coord[0,0]\n",
    "y = track_coord[0,1]\n",
    "\n",
    "track_coord\n",
    "\n",
    "fig = plt.figure()\n",
    "plt.scatter(plan_coord[:, 0], plan_coord[:, 1], s=50, c='blue')\n",
    "plt.scatter(track_coord[:, 0], track_coord[:, 1], s=300, c='black')\n",
    "#plt.scatter(curve_coord[:, 0], curve_coord[:, 1], c='red')\n",
    "plt.show(plt)"
   ]
  },
  {
   "cell_type": "code",
   "execution_count": 96,
   "metadata": {},
   "outputs": [
    {
     "data": {
      "image/png": "[encoded data removed]",
      "text/plain": [
       "<Figure size 432x288 with 1 Axes>"
      ]
     },
     "metadata": {
      "needs_background": "light"
     },
     "output_type": "display_data"
    }
   ],
   "source": [
    "#while(1) :\n",
    "previous_coord = track_coord\n",
    "track_coord = tracking(plan_coord, x, y, track)\n",
    "\n",
    "x = track_coord[0,0]\n",
    "y = track_coord[0,1]\n",
    "\n",
    "fig = plt.figure()\n",
    "plt.scatter(plan_coord[:, 0], plan_coord[:, 1], s=50, c='blue')\n",
    "plt.scatter(previous_coord[:, 0], previous_coord[:, 1], s=200, c='green')\n",
    "plt.scatter(track_coord[:, 0], track_coord[:, 1], s=500, c='black')\n",
    "plt.show(plt)\n",
    "\n",
    "#time.sleep(2)\n",
    "    "
   ]
  },
  {
   "cell_type": "code",
   "execution_count": null,
   "metadata": {},
   "outputs": [],
   "source": []
  },
  {
   "cell_type": "code",
   "execution_count": null,
   "metadata": {},
   "outputs": [],
   "source": []
  },
  {
   "cell_type": "code",
   "execution_count": null,
   "metadata": {},
   "outputs": [],
   "source": []
  },
  {
   "cell_type": "code",
   "execution_count": null,
   "metadata": {},
   "outputs": [],
   "source": []
  },
  {
   "cell_type": "code",
   "execution_count": null,
   "metadata": {},
   "outputs": [],
   "source": []
  },
  {
   "cell_type": "code",
   "execution_count": null,
   "metadata": {},
   "outputs": [],
   "source": []
  },
  {
   "cell_type": "code",
   "execution_count": null,
   "metadata": {},
   "outputs": [],
   "source": []
  },
  {
   "cell_type": "code",
   "execution_count": null,
   "metadata": {},
   "outputs": [],
   "source": []
  }
 ],
 "metadata": {
  "kernelspec": {
   "display_name": "Python 3",
   "language": "python",
   "name": "python3"
  },
  "language_info": {
   "codemirror_mode": {
    "name": "ipython",
    "version": 3
   },
   "file_extension": ".py",
   "mimetype": "text/x-python",
   "name": "python",
   "nbconvert_exporter": "python",
   "pygments_lexer": "ipython3",
   "version": "3.6.8"
  }
 },
 "nbformat": 4,
 "nbformat_minor": 2
}
