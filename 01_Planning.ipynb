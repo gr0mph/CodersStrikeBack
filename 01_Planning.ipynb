{
 "cells": [
  {
   "cell_type": "code",
   "execution_count": null,
   "metadata": {},
   "outputs": [],
   "source": []
  },
  {
   "cell_type": "code",
   "execution_count": 1,
   "metadata": {},
   "outputs": [],
   "source": [
    "import numpy as np"
   ]
  },
  {
   "cell_type": "raw",
   "metadata": {},
   "source": [
    "5487 7517\n",
    "6502 5792\n",
    "4478 5976\n",
    "13524 1990"
   ]
  },
  {
   "cell_type": "code",
   "execution_count": 2,
   "metadata": {},
   "outputs": [],
   "source": [
    "class ConfigureFirstPoly:\n",
    "    def __init__(self):\n",
    "        self.index = -1\n",
    "        self.size = 1\n",
    "        self.poly_knowed = 0\n",
    "\n",
    "def add_array_poly(in_coord, x, y, poly):\n",
    "    if poly.poly_knowed :\n",
    "        pass\n",
    "    elif poly.index == -1 :\n",
    "        in_coord = np.array( [ [ x , y ] ,] )\n",
    "        poly.index = poly.index + 1\n",
    "    else :\n",
    "        if poly.size != 1 and np.array_equal(in_coord[0],[x, y]) :\n",
    "            poly.poly_knowed = 1\n",
    "        elif np.array_equal(in_coord[-1],[x, y]) is False :\n",
    "            add = np.array([[x,y],])\n",
    "            in_coord = np.concatenate((in_coord, add))\n",
    "            poly.index = poly.index + 1\n",
    "            poly.size = poly.size + 1\n",
    "\n",
    "    print(\"c {} i {} size {} knowed {}\".format(in_coord,poly.index,poly.size, poly.poly_knowed))\n",
    "    return in_coord"
   ]
  },
  {
   "cell_type": "code",
   "execution_count": 3,
   "metadata": {},
   "outputs": [],
   "source": [
    "poly = ConfigureFirstPoly()\n",
    "in_coord = np.array([[]])"
   ]
  },
  {
   "cell_type": "code",
   "execution_count": 15,
   "metadata": {},
   "outputs": [
    {
     "name": "stdout",
     "output_type": "stream",
     "text": [
      "c [[ 5487  7517]\n",
      " [ 6502  5792]\n",
      " [ 4478  5976]\n",
      " [13524  1990]] i 3 size 4 knowed 1\n"
     ]
    },
    {
     "data": {
      "text/plain": [
       "array([[ 5487,  7517],\n",
       "       [ 6502,  5792],\n",
       "       [ 4478,  5976],\n",
       "       [13524,  1990]])"
      ]
     },
     "execution_count": 15,
     "metadata": {},
     "output_type": "execute_result"
    }
   ],
   "source": [
    "x=5487\n",
    "y=7517\n",
    "in_coord = add_array_poly(in_coord,x,y,poly)\n",
    "in_coord"
   ]
  },
  {
   "cell_type": "code",
   "execution_count": 8,
   "metadata": {},
   "outputs": [
    {
     "name": "stdout",
     "output_type": "stream",
     "text": [
      "c [[5487 7517]\n",
      " [6502 5792]] i 1 size 2 knowed 0\n"
     ]
    },
    {
     "data": {
      "text/plain": [
       "array([[5487, 7517],\n",
       "       [6502, 5792]])"
      ]
     },
     "execution_count": 8,
     "metadata": {},
     "output_type": "execute_result"
    }
   ],
   "source": [
    "x=6502\n",
    "y=5792\n",
    "in_coord = add_array_poly(in_coord,x,y,poly)\n",
    "in_coord"
   ]
  },
  {
   "cell_type": "code",
   "execution_count": 11,
   "metadata": {},
   "outputs": [
    {
     "name": "stdout",
     "output_type": "stream",
     "text": [
      "c [[5487 7517]\n",
      " [6502 5792]\n",
      " [4478 5976]] i 2 size 3 knowed 0\n"
     ]
    },
    {
     "data": {
      "text/plain": [
       "array([[5487, 7517],\n",
       "       [6502, 5792],\n",
       "       [4478, 5976]])"
      ]
     },
     "execution_count": 11,
     "metadata": {},
     "output_type": "execute_result"
    }
   ],
   "source": [
    "x=4478\n",
    "y=5976\n",
    "in_coord = add_array_poly(in_coord,x,y,poly)\n",
    "in_coord"
   ]
  },
  {
   "cell_type": "code",
   "execution_count": 14,
   "metadata": {},
   "outputs": [
    {
     "name": "stdout",
     "output_type": "stream",
     "text": [
      "c [[ 5487  7517]\n",
      " [ 6502  5792]\n",
      " [ 4478  5976]\n",
      " [13524  1990]] i 3 size 4 knowed 0\n"
     ]
    },
    {
     "data": {
      "text/plain": [
       "array([[ 5487,  7517],\n",
       "       [ 6502,  5792],\n",
       "       [ 4478,  5976],\n",
       "       [13524,  1990]])"
      ]
     },
     "execution_count": 14,
     "metadata": {},
     "output_type": "execute_result"
    }
   ],
   "source": [
    "x=13524\n",
    "y=1990\n",
    "in_coord = add_array_poly(in_coord,x,y,poly)\n",
    "in_coord"
   ]
  },
  {
   "cell_type": "code",
   "execution_count": null,
   "metadata": {},
   "outputs": [],
   "source": []
  }
 ],
 "metadata": {
  "kernelspec": {
   "display_name": "Python 3",
   "language": "python",
   "name": "python3"
  },
  "language_info": {
   "codemirror_mode": {
    "name": "ipython",
    "version": 3
   },
   "file_extension": ".py",
   "mimetype": "text/x-python",
   "name": "python",
   "nbconvert_exporter": "python",
   "pygments_lexer": "ipython3",
   "version": "3.6.8"
  }
 },
 "nbformat": 4,
 "nbformat_minor": 2
}
